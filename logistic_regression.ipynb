{
  "nbformat": 4,
  "nbformat_minor": 0,
  "metadata": {
    "colab": {
      "provenance": [],
      "authorship_tag": "ABX9TyMkSQiGM0+yoRW1zlcNqBd8",
      "include_colab_link": true
    },
    "kernelspec": {
      "name": "python3",
      "display_name": "Python 3"
    },
    "language_info": {
      "name": "python"
    }
  },
  "cells": [
    {
      "cell_type": "markdown",
      "metadata": {
        "id": "view-in-github",
        "colab_type": "text"
      },
      "source": [
        "<a href=\"https://colab.research.google.com/github/Tuevu110405/Module5_1st_step_toDL/blob/feature%2Flogistic_regression/logistic_regression.ipynb\" target=\"_parent\"><img src=\"https://colab.research.google.com/assets/colab-badge.svg\" alt=\"Open In Colab\"/></a>"
      ]
    },
    {
      "cell_type": "code",
      "execution_count": null,
      "metadata": {
        "colab": {
          "base_uri": "https://localhost:8080/"
        },
        "id": "WtWiCKF7_0G5",
        "outputId": "5d2a8773-3c21-4048-9431-b41296de3d25"
      },
      "outputs": [
        {
          "output_type": "stream",
          "name": "stdout",
          "text": [
            "Downloading...\n",
            "From: https://drive.google.com/uc?id=1SFWQ7Zi83Gff-RVrlHj0z4Llm1Nq4BBA\n",
            "To: /content/titanic_modified_dataset.csv\n",
            "\r  0% 0.00/25.9k [00:00<?, ?B/s]\r100% 25.9k/25.9k [00:00<00:00, 2.95MB/s]\n"
          ]
        }
      ],
      "source": [
        "!gdown 1SFWQ7Zi83Gff-RVrlHj0z4Llm1Nq4BBA\n"
      ]
    },
    {
      "cell_type": "code",
      "source": [
        "import pandas as pd\n",
        "import numpy as np\n",
        "import matplotlib.pyplot as plt\n",
        "\n",
        "from sklearn.model_selection import train_test_split\n",
        "from sklearn.preprocessing import StandardScaler"
      ],
      "metadata": {
        "id": "ojkZE7C8AB26"
      },
      "execution_count": null,
      "outputs": []
    },
    {
      "cell_type": "code",
      "source": [
        "dataset_path = 'titanic_modified_dataset.csv'\n",
        "df = pd.read_csv(dataset_path, index_col='PassengerId')\n"
      ],
      "metadata": {
        "id": "-KdVbmzcBjN8"
      },
      "execution_count": null,
      "outputs": []
    },
    {
      "cell_type": "code",
      "source": [
        "dataset_arr = df.to_numpy().astype(np.float64)\n",
        "X, y = dataset_arr[:, :-1], dataset_arr[:, -1]"
      ],
      "metadata": {
        "id": "9A4TpB6qCbsL"
      },
      "execution_count": null,
      "outputs": []
    },
    {
      "cell_type": "code",
      "source": [
        "intercept = np.ones((X.shape[0], 1))\n",
        "X_b = np.concatenate((intercept, X), axis=1)\n"
      ],
      "metadata": {
        "id": "62y5TgD4CKiq"
      },
      "execution_count": null,
      "outputs": []
    },
    {
      "cell_type": "code",
      "source": [
        "val_size = 0.2\n",
        "test_size = 0.125\n",
        "random_state = 2\n",
        "is_shuffle = True\n",
        "\n",
        "X_train, X_val, y_train, y_val = train_test_split(X_b, y, test_size=val_size, shuffle=is_shuffle, random_state=random_state)\n",
        "\n",
        "X_train, X_test, y_train, y_test = train_test_split(X_train, y_train, test_size=test_size, shuffle=is_shuffle, random_state=random_state)"
      ],
      "metadata": {
        "id": "N1aQ_Rv6DXG0"
      },
      "execution_count": null,
      "outputs": []
    },
    {
      "cell_type": "code",
      "source": [
        "normalizer = StandardScaler()\n",
        "X_train[:, 1:] = normalizer.fit_transform(X_train[:, 1:])\n",
        "X_val[:, 1:] = normalizer.transform(X_val[:, 1:])\n",
        "X_test[:, 1:] = normalizer.transform(X_test[:, 1:])"
      ],
      "metadata": {
        "id": "WhnOoLSKGWF-"
      },
      "execution_count": null,
      "outputs": []
    },
    {
      "cell_type": "code",
      "source": [
        "def sigmoid(z):\n",
        "    return 1 / (1 + np.exp(-z))"
      ],
      "metadata": {
        "id": "CyTsSTqqG52d"
      },
      "execution_count": 1,
      "outputs": []
    },
    {
      "cell_type": "code",
      "source": [
        "def predict(X, theta):\n",
        "    dot_product = np.dot(X, theta)\n",
        "    return sigmoid(dot_product)"
      ],
      "metadata": {
        "id": "PrpQ2IEiHtm0"
      },
      "execution_count": 2,
      "outputs": []
    },
    {
      "cell_type": "code",
      "source": [
        "def compute_loss(y_hat, y):\n",
        "    y_hat = np.clip(y_hat, 1e-7, 1-1e-7)\n",
        "    return (\n",
        "        -y *  np.log(y_hat) - (1-y) * np.log(1-y_hat)\n",
        "    ).mean()"
      ],
      "metadata": {
        "id": "crtRwuUxJTJS"
      },
      "execution_count": 3,
      "outputs": []
    },
    {
      "cell_type": "code",
      "source": [
        "def compute_gradient(X, y_hat, y):\n",
        "    return np.dot(X.T, (y_hat - y)) / X.shape[0]"
      ],
      "metadata": {
        "id": "d8O4yWVwJ8yx"
      },
      "execution_count": 4,
      "outputs": []
    },
    {
      "cell_type": "code",
      "source": [
        "def update_theta(theta, gradient, learning_rate):\n",
        "    return theta - learning_rate * gradient"
      ],
      "metadata": {
        "id": "BbdeB0nWMapO"
      },
      "execution_count": 5,
      "outputs": []
    },
    {
      "cell_type": "code",
      "source": [
        "def compute_accuracy(X, y, theta):\n",
        "    y_hat = predict(X, theta).round()\n",
        "    acc = (y_hat == y).mean()\n",
        "\n",
        "    return acc"
      ],
      "metadata": {
        "id": "yshuCGNCMlf7"
      },
      "execution_count": 6,
      "outputs": []
    },
    {
      "cell_type": "code",
      "source": [
        "lr = 0.01\n",
        "epochs = 100\n",
        "batch_size = 16\n",
        "\n",
        "np.random.seed(random_state)\n",
        "theta = np.random.uniform(\n",
        "    size= X_train.shape[1]\n",
        ")"
      ],
      "metadata": {
        "id": "inDJqhWaNvL9"
      },
      "execution_count": null,
      "outputs": []
    },
    {
      "cell_type": "code",
      "source": [
        "train_accs = []\n",
        "train_losses = []\n",
        "val_accs = []\n",
        "val_losses = []\n",
        "\n",
        "for epoch in range(epochs):\n",
        "    train_batch_losses = []\n",
        "    train_batch_accs = []\n",
        "    val_batch_losses = []\n",
        "    val_batch_accs = []\n",
        "\n",
        "    for i in range(0, X_train.shape[0], batch_size):\n",
        "        X_batch = X_train[i:i+batch_size]\n",
        "        y_batch = y_train[i:i+batch_size]\n",
        "\n",
        "        y_hat = predict(X_batch, theta)\n",
        "\n",
        "        train_loss = compute_loss(y_hat, y_batch)\n",
        "\n",
        "        gradient = compute_gradient(X_batch, y_hat, y_batch)\n",
        "\n",
        "        theta = update_theta(theta, gradient, lr)\n",
        "\n",
        "\n",
        "        train_batch_losses.append(train_loss)\n",
        "        train_acc = compute_accuracy(X_batch, y_batch, theta)\n",
        "        train_batch_accs.append(train_acc)\n",
        "\n",
        "        y_val_hat = predict(X_val, theta)\n",
        "        val_loss = compute_loss(y_val_hat, y_val)\n",
        "        val_batch_losses.append(val_loss)\n",
        "\n",
        "        val_acc = compute_accuracy(X_val, y_val, theta)\n",
        "        val_batch_accs.append(val_acc)\n",
        "\n",
        "\n",
        "    train_batch_loss = sum(train_batch_losses) / len(train_batch_losses)\n",
        "    val_batch_loss = sum(val_batch_losses) / len(val_batch_losses)\n",
        "    train_batch_acc = sum(train_batch_accs) / len(train_batch_accs)\n",
        "    val_batch_acc = sum(val_batch_accs) / len(val_batch_accs)\n",
        "\n",
        "    train_losses.append(train_batch_loss)\n",
        "    val_losses.append(val_batch_loss)\n",
        "    train_accs.append(train_batch_acc)\n",
        "    val_accs.append(val_batch_acc)\n",
        "\n",
        "    print(f'\\nEPOCH { epoch + 1}:\\tTraining loss : { train_batch_loss :.3f}\\tValidation loss:{val_batch_loss:.3f}')\n",
        "\n"
      ],
      "metadata": {
        "id": "7PrszVj4OL7R",
        "colab": {
          "base_uri": "https://localhost:8080/"
        },
        "outputId": "bd3fe8a3-d57f-4b96-c12b-c7783c38ae2f"
      },
      "execution_count": null,
      "outputs": [
        {
          "output_type": "stream",
          "name": "stdout",
          "text": [
            "\n",
            "EPOCH 1:\tTraining loss : 0.703\tValidation loss:0.599\n",
            "\n",
            "EPOCH 2:\tTraining loss : 0.670\tValidation loss:0.582\n",
            "\n",
            "EPOCH 3:\tTraining loss : 0.640\tValidation loss:0.567\n",
            "\n",
            "EPOCH 4:\tTraining loss : 0.614\tValidation loss:0.555\n",
            "\n",
            "EPOCH 5:\tTraining loss : 0.592\tValidation loss:0.544\n",
            "\n",
            "EPOCH 6:\tTraining loss : 0.572\tValidation loss:0.535\n",
            "\n",
            "EPOCH 7:\tTraining loss : 0.554\tValidation loss:0.528\n",
            "\n",
            "EPOCH 8:\tTraining loss : 0.539\tValidation loss:0.522\n",
            "\n",
            "EPOCH 9:\tTraining loss : 0.526\tValidation loss:0.517\n",
            "\n",
            "EPOCH 10:\tTraining loss : 0.514\tValidation loss:0.513\n",
            "\n",
            "EPOCH 11:\tTraining loss : 0.504\tValidation loss:0.509\n",
            "\n",
            "EPOCH 12:\tTraining loss : 0.495\tValidation loss:0.507\n",
            "\n",
            "EPOCH 13:\tTraining loss : 0.487\tValidation loss:0.505\n",
            "\n",
            "EPOCH 14:\tTraining loss : 0.480\tValidation loss:0.503\n",
            "\n",
            "EPOCH 15:\tTraining loss : 0.474\tValidation loss:0.502\n",
            "\n",
            "EPOCH 16:\tTraining loss : 0.468\tValidation loss:0.501\n",
            "\n",
            "EPOCH 17:\tTraining loss : 0.463\tValidation loss:0.500\n",
            "\n",
            "EPOCH 18:\tTraining loss : 0.459\tValidation loss:0.500\n",
            "\n",
            "EPOCH 19:\tTraining loss : 0.455\tValidation loss:0.500\n",
            "\n",
            "EPOCH 20:\tTraining loss : 0.452\tValidation loss:0.500\n",
            "\n",
            "EPOCH 21:\tTraining loss : 0.449\tValidation loss:0.499\n",
            "\n",
            "EPOCH 22:\tTraining loss : 0.446\tValidation loss:0.500\n",
            "\n",
            "EPOCH 23:\tTraining loss : 0.443\tValidation loss:0.500\n",
            "\n",
            "EPOCH 24:\tTraining loss : 0.441\tValidation loss:0.500\n",
            "\n",
            "EPOCH 25:\tTraining loss : 0.439\tValidation loss:0.500\n",
            "\n",
            "EPOCH 26:\tTraining loss : 0.437\tValidation loss:0.500\n",
            "\n",
            "EPOCH 27:\tTraining loss : 0.435\tValidation loss:0.501\n",
            "\n",
            "EPOCH 28:\tTraining loss : 0.434\tValidation loss:0.501\n",
            "\n",
            "EPOCH 29:\tTraining loss : 0.432\tValidation loss:0.502\n",
            "\n",
            "EPOCH 30:\tTraining loss : 0.431\tValidation loss:0.502\n",
            "\n",
            "EPOCH 31:\tTraining loss : 0.430\tValidation loss:0.502\n",
            "\n",
            "EPOCH 32:\tTraining loss : 0.429\tValidation loss:0.503\n",
            "\n",
            "EPOCH 33:\tTraining loss : 0.428\tValidation loss:0.503\n",
            "\n",
            "EPOCH 34:\tTraining loss : 0.427\tValidation loss:0.504\n",
            "\n",
            "EPOCH 35:\tTraining loss : 0.426\tValidation loss:0.504\n",
            "\n",
            "EPOCH 36:\tTraining loss : 0.425\tValidation loss:0.504\n",
            "\n",
            "EPOCH 37:\tTraining loss : 0.424\tValidation loss:0.505\n",
            "\n",
            "EPOCH 38:\tTraining loss : 0.424\tValidation loss:0.505\n",
            "\n",
            "EPOCH 39:\tTraining loss : 0.423\tValidation loss:0.506\n",
            "\n",
            "EPOCH 40:\tTraining loss : 0.422\tValidation loss:0.506\n",
            "\n",
            "EPOCH 41:\tTraining loss : 0.422\tValidation loss:0.506\n",
            "\n",
            "EPOCH 42:\tTraining loss : 0.421\tValidation loss:0.507\n",
            "\n",
            "EPOCH 43:\tTraining loss : 0.421\tValidation loss:0.507\n",
            "\n",
            "EPOCH 44:\tTraining loss : 0.420\tValidation loss:0.507\n",
            "\n",
            "EPOCH 45:\tTraining loss : 0.420\tValidation loss:0.508\n",
            "\n",
            "EPOCH 46:\tTraining loss : 0.420\tValidation loss:0.508\n",
            "\n",
            "EPOCH 47:\tTraining loss : 0.419\tValidation loss:0.509\n",
            "\n",
            "EPOCH 48:\tTraining loss : 0.419\tValidation loss:0.509\n",
            "\n",
            "EPOCH 49:\tTraining loss : 0.418\tValidation loss:0.509\n",
            "\n",
            "EPOCH 50:\tTraining loss : 0.418\tValidation loss:0.510\n",
            "\n",
            "EPOCH 51:\tTraining loss : 0.418\tValidation loss:0.510\n",
            "\n",
            "EPOCH 52:\tTraining loss : 0.417\tValidation loss:0.510\n",
            "\n",
            "EPOCH 53:\tTraining loss : 0.417\tValidation loss:0.510\n",
            "\n",
            "EPOCH 54:\tTraining loss : 0.417\tValidation loss:0.511\n",
            "\n",
            "EPOCH 55:\tTraining loss : 0.417\tValidation loss:0.511\n",
            "\n",
            "EPOCH 56:\tTraining loss : 0.416\tValidation loss:0.511\n",
            "\n",
            "EPOCH 57:\tTraining loss : 0.416\tValidation loss:0.512\n",
            "\n",
            "EPOCH 58:\tTraining loss : 0.416\tValidation loss:0.512\n",
            "\n",
            "EPOCH 59:\tTraining loss : 0.416\tValidation loss:0.512\n",
            "\n",
            "EPOCH 60:\tTraining loss : 0.416\tValidation loss:0.512\n",
            "\n",
            "EPOCH 61:\tTraining loss : 0.415\tValidation loss:0.513\n",
            "\n",
            "EPOCH 62:\tTraining loss : 0.415\tValidation loss:0.513\n",
            "\n",
            "EPOCH 63:\tTraining loss : 0.415\tValidation loss:0.513\n",
            "\n",
            "EPOCH 64:\tTraining loss : 0.415\tValidation loss:0.513\n",
            "\n",
            "EPOCH 65:\tTraining loss : 0.415\tValidation loss:0.514\n",
            "\n",
            "EPOCH 66:\tTraining loss : 0.415\tValidation loss:0.514\n",
            "\n",
            "EPOCH 67:\tTraining loss : 0.415\tValidation loss:0.514\n",
            "\n",
            "EPOCH 68:\tTraining loss : 0.414\tValidation loss:0.514\n",
            "\n",
            "EPOCH 69:\tTraining loss : 0.414\tValidation loss:0.514\n",
            "\n",
            "EPOCH 70:\tTraining loss : 0.414\tValidation loss:0.515\n",
            "\n",
            "EPOCH 71:\tTraining loss : 0.414\tValidation loss:0.515\n",
            "\n",
            "EPOCH 72:\tTraining loss : 0.414\tValidation loss:0.515\n",
            "\n",
            "EPOCH 73:\tTraining loss : 0.414\tValidation loss:0.515\n",
            "\n",
            "EPOCH 74:\tTraining loss : 0.414\tValidation loss:0.515\n",
            "\n",
            "EPOCH 75:\tTraining loss : 0.414\tValidation loss:0.516\n",
            "\n",
            "EPOCH 76:\tTraining loss : 0.414\tValidation loss:0.516\n",
            "\n",
            "EPOCH 77:\tTraining loss : 0.413\tValidation loss:0.516\n",
            "\n",
            "EPOCH 78:\tTraining loss : 0.413\tValidation loss:0.516\n",
            "\n",
            "EPOCH 79:\tTraining loss : 0.413\tValidation loss:0.516\n",
            "\n",
            "EPOCH 80:\tTraining loss : 0.413\tValidation loss:0.517\n",
            "\n",
            "EPOCH 81:\tTraining loss : 0.413\tValidation loss:0.517\n",
            "\n",
            "EPOCH 82:\tTraining loss : 0.413\tValidation loss:0.517\n",
            "\n",
            "EPOCH 83:\tTraining loss : 0.413\tValidation loss:0.517\n",
            "\n",
            "EPOCH 84:\tTraining loss : 0.413\tValidation loss:0.517\n",
            "\n",
            "EPOCH 85:\tTraining loss : 0.413\tValidation loss:0.517\n",
            "\n",
            "EPOCH 86:\tTraining loss : 0.413\tValidation loss:0.517\n",
            "\n",
            "EPOCH 87:\tTraining loss : 0.413\tValidation loss:0.518\n",
            "\n",
            "EPOCH 88:\tTraining loss : 0.413\tValidation loss:0.518\n",
            "\n",
            "EPOCH 89:\tTraining loss : 0.413\tValidation loss:0.518\n",
            "\n",
            "EPOCH 90:\tTraining loss : 0.413\tValidation loss:0.518\n",
            "\n",
            "EPOCH 91:\tTraining loss : 0.413\tValidation loss:0.518\n",
            "\n",
            "EPOCH 92:\tTraining loss : 0.413\tValidation loss:0.518\n",
            "\n",
            "EPOCH 93:\tTraining loss : 0.413\tValidation loss:0.518\n",
            "\n",
            "EPOCH 94:\tTraining loss : 0.412\tValidation loss:0.519\n",
            "\n",
            "EPOCH 95:\tTraining loss : 0.412\tValidation loss:0.519\n",
            "\n",
            "EPOCH 96:\tTraining loss : 0.412\tValidation loss:0.519\n",
            "\n",
            "EPOCH 97:\tTraining loss : 0.412\tValidation loss:0.519\n",
            "\n",
            "EPOCH 98:\tTraining loss : 0.412\tValidation loss:0.519\n",
            "\n",
            "EPOCH 99:\tTraining loss : 0.412\tValidation loss:0.519\n",
            "\n",
            "EPOCH 100:\tTraining loss : 0.412\tValidation loss:0.519\n"
          ]
        }
      ]
    },
    {
      "cell_type": "code",
      "source": [
        "fig, ax = plt.subplots(2, 2, figsize=(12, 10))\n",
        "ax[0, 0].plot(train_losses)\n",
        "ax[0, 0].set(xlabel= 'Epoch', ylabel = 'Loss')\n",
        "ax[0, 0].set_title('Training Loss')\n",
        "\n",
        "ax[0, 1].plot(val_losses, 'orange')\n",
        "ax[0, 1].set(xlabel= 'Epoch', ylabel = 'Loss')\n",
        "ax[0, 1].set_title('Validation Loss')\n",
        "\n",
        "ax[1, 0].plot(train_accs)\n",
        "ax[1, 0].set(xlabel= 'Epoch', ylabel = 'Accuracy')\n",
        "ax[1, 0].set_title('Training Accuracy')\n",
        "\n",
        "ax[1, 1].plot(val_accs, 'orange')\n",
        "ax[1, 1].set(xlabel= 'Epoch', ylabel = 'Accuracy')\n",
        "ax[1, 1].set_title('Validation Accuracy')\n",
        "\n",
        "plt.show()"
      ],
      "metadata": {
        "colab": {
          "base_uri": "https://localhost:8080/",
          "height": 550
        },
        "id": "Kh6ZYGdbyji5",
        "outputId": "716dab9e-505b-4b20-ab67-25b3296f5075"
      },
      "execution_count": null,
      "outputs": [
        {
          "output_type": "display_data",
          "data": {
            "text/plain": [
              "<Figure size 1200x1000 with 4 Axes>"
            ],
            "image/png": "[encoded data removed]"
          },
          "metadata": {}
        }
      ]
    },
    {
      "cell_type": "code",
      "source": [
        "val_set_acc = compute_accuracy(X_val, y_val, theta)\n",
        "test_set_acc = compute_accuracy(X_test, y_test, theta)\n",
        "\n",
        "print(f'Validation set accuracy: {val_set_acc:.3f}')\n",
        "print(f'Test set accuracy: {test_set_acc:.3f}')"
      ],
      "metadata": {
        "colab": {
          "base_uri": "https://localhost:8080/"
        },
        "id": "p18qJmI610c8",
        "outputId": "671b3064-6d8b-4150-c584-50d4a481d7bb"
      },
      "execution_count": null,
      "outputs": [
        {
          "output_type": "stream",
          "name": "stdout",
          "text": [
            "Validation set accuracy: 0.771\n",
            "Test set accuracy: 0.775\n"
          ]
        }
      ]
    },
    {
      "cell_type": "markdown",
      "source": [
        "Bài 2"
      ],
      "metadata": {
        "id": "39SzEPaI2ZEh"
      }
    },
    {
      "cell_type": "code",
      "source": [
        "!gdown 1dANzxlEjeCEbveFOWWqzSG-niVx-vCgK"
      ],
      "metadata": {
        "colab": {
          "base_uri": "https://localhost:8080/"
        },
        "id": "XMn6zoqQ2DPP",
        "outputId": "da933399-c498-44a8-ed57-d37f1ac478a3"
      },
      "execution_count": null,
      "outputs": [
        {
          "output_type": "stream",
          "name": "stdout",
          "text": [
            "Downloading...\n",
            "From: https://drive.google.com/uc?id=1dANzxlEjeCEbveFOWWqzSG-niVx-vCgK\n",
            "To: /content/sentiment_analysis.csv\n",
            "\r  0% 0.00/1.10M [00:00<?, ?B/s]\r100% 1.10M/1.10M [00:00<00:00, 112MB/s]\n"
          ]
        }
      ]
    },
    {
      "cell_type": "code",
      "source": [
        "import pandas as pd\n",
        "import numpy as np\n",
        "import re\n",
        "import matplotlib.pyplot as plt\n",
        "\n",
        "from sklearn.model_selection import train_test_split\n",
        "from sklearn.preprocessing import StandardScaler\n",
        "from nltk.tokenize import TweetTokenizer\n",
        "from collections import defaultdict"
      ],
      "metadata": {
        "id": "ia1Gt3jx2SN8"
      },
      "execution_count": null,
      "outputs": []
    },
    {
      "cell_type": "code",
      "source": [
        "dataset_path = 'sentiment_analysis.csv'\n",
        "df = pd.read_csv(dataset_path, index_col='id')"
      ],
      "metadata": {
        "id": "DUMMbJfh4nis"
      },
      "execution_count": null,
      "outputs": []
    },
    {
      "cell_type": "code",
      "source": [
        "def text_normalize(text):\n",
        "    #retweet old acronym \"RT\" removal\n",
        "    text = re.sub(r'^RT[\\s]+', '',text)\n",
        "    #Hyperlink removal\n",
        "    text = re.sub(r'https?:\\/\\/.*[\\ r\\n]* ', '', text)\n",
        "    #Hashtags removal\n",
        "    text = re.sub(r'#', '', text)\n",
        "    #puctuation removal\n",
        "    text = re.sub(r'[^\\w\\s]','',text)\n",
        "    #Tokenization\n",
        "    tokenizer = TweetTokenizer(preserve_case = False, strip_handles = True, reduce_len = True)\n",
        "    text_tokens = tokenizer.tokenize(text)\n",
        "\n",
        "    return text_tokens\n"
      ],
      "metadata": {
        "id": "GeTOZ0es4903"
      },
      "execution_count": null,
      "outputs": []
    },
    {
      "cell_type": "code",
      "source": [
        "def get_freqs(df):\n",
        "    freqs = defaultdict(lambda: 0)\n",
        "    for idx, row in df.iterrows():\n",
        "        tweet = row['tweet']\n",
        "        label = row['label']\n",
        "\n",
        "        tokens = text_normalize(tweet)\n",
        "        for token in tokens:\n",
        "            pair = (token, label)\n",
        "            freqs[pair] += 1\n",
        "\n",
        "    return freqs"
      ],
      "metadata": {
        "id": "E_FSt5sL_3yx"
      },
      "execution_count": null,
      "outputs": []
    },
    {
      "cell_type": "code",
      "source": [
        "def get_feature(text, freqs):\n",
        "    tokens = text_normalize(text)\n",
        "\n",
        "    X = np.zeros(3)\n",
        "    X[0] = 1\n",
        "\n",
        "    for token in tokens:\n",
        "        X[1] += freqs[(token, 0)]\n",
        "        X[2] += freqs[(token, 1)]\n",
        "\n",
        "    return X"
      ],
      "metadata": {
        "id": "lwhCuu_WBV8e"
      },
      "execution_count": null,
      "outputs": []
    },
    {
      "cell_type": "code",
      "source": [
        "X = []\n",
        "y = []\n",
        "\n",
        "freqs = get_freqs(df)\n",
        "for idx, row in df. iterrows():\n",
        "    tweet = row['tweet']\n",
        "    label = row['label']\n",
        "\n",
        "    X_i = get_feature(tweet, freqs)\n",
        "    X.append(X_i)\n",
        "    y.append(label)\n",
        "\n",
        "X = np.array(X)\n",
        "y = np.array(y)"
      ],
      "metadata": {
        "id": "fZTdkZQyITKT"
      },
      "execution_count": null,
      "outputs": []
    },
    {
      "cell_type": "code",
      "source": [
        "val_size = 0.2\n",
        "test_size = 0.125\n",
        "random_state = 2\n",
        "is_shuffle = True\n",
        "\n",
        "X_train, X_val, y_train, y_val = train_test_split(X, y, test_size=val_size, shuffle=is_shuffle, random_state=random_state)\n",
        "\n",
        "X_train, X_test, y_train, y_test = train_test_split(X_train, y_train, test_size=test_size, shuffle=is_shuffle, random_state=random_state)"
      ],
      "metadata": {
        "id": "NstRTBjAJXNl"
      },
      "execution_count": null,
      "outputs": []
    },
    {
      "cell_type": "code",
      "source": [
        "normalizer = StandardScaler()\n",
        "X_train[:, 1:] = normalizer.fit_transform(X_train[:, 1:])\n",
        "X_val[:, 1:] = normalizer.transform(X_val[:, 1:])\n",
        "X_test[:, 1:] = normalizer.transform(X_test[:, 1:])"
      ],
      "metadata": {
        "id": "i-VL_dnMJ-Lk"
      },
      "execution_count": null,
      "outputs": []
    },
    {
      "cell_type": "code",
      "source": [
        "def sigmoid(z):\n",
        "    return 1 / (1 + np.exp(-z))\n",
        "\n",
        "def compute_loss(y_hat, y):\n",
        "    y_hat = np.clip(y_hat, 1e-7, 1-1e-7)\n",
        "\n",
        "    return (\n",
        "        -y *  np.log(y_hat) - (1-y) * np.log(1-y_hat)\n",
        "    ).mean()\n",
        "\n",
        "def predict(X, theta):\n",
        "    dot_product = np.dot(X, theta)\n",
        "    y_hat = sigmoid(dot_product)\n",
        "\n",
        "    return y_hat\n",
        "\n",
        "def compute_gradient(X, y_hat, y):\n",
        "    return np.dot(X.T, (y_hat - y)) / X.shape[0]\n",
        "\n",
        "def update_theta(theta, gradient, learning_rate):\n",
        "    return theta - learning_rate * gradient\n",
        "\n",
        "def compute_accuracy(X, y, theta):\n",
        "    y_hat = predict(X, theta).round()\n",
        "    acc = (y_hat == y).mean()\n",
        "\n",
        "    return acc"
      ],
      "metadata": {
        "id": "iepzdXCzKrrw"
      },
      "execution_count": null,
      "outputs": []
    },
    {
      "cell_type": "code",
      "source": [
        "lr = 0.01\n",
        "epochs = 200\n",
        "batch_size = 128\n",
        "\n",
        "np.random.seed(random_state)\n",
        "theta = np.random.uniform(\n",
        "    size = X_train.shape[1]\n",
        ")"
      ],
      "metadata": {
        "id": "hpRDovcWNq_y"
      },
      "execution_count": null,
      "outputs": []
    },
    {
      "cell_type": "code",
      "source": [],
      "metadata": {
        "id": "TubCuMjvOUwB"
      },
      "execution_count": null,
      "outputs": []
    },
    {
      "cell_type": "code",
      "source": [
        "train_accs = []\n",
        "train_losses = []\n",
        "val_accs = []\n",
        "val_losses = []\n",
        "\n",
        "for epoch in range(epochs):\n",
        "    train_batch_losses = []\n",
        "    train_batch_accs = []\n",
        "    val_batch_losses = []\n",
        "    val_batch_accs = []\n",
        "\n",
        "    for i in range(0, X_train.shape[0], batch_size):\n",
        "        X_batch = X_train[i:i+batch_size]\n",
        "        y_batch = y_train[i:i+batch_size]\n",
        "\n",
        "        y_hat = predict(X_batch, theta)\n",
        "\n",
        "        train_loss = compute_loss(y_hat, y_batch)\n",
        "\n",
        "        gradient = compute_gradient(X_batch, y_hat, y_batch)\n",
        "\n",
        "        theta = update_theta(theta, gradient, lr)\n",
        "\n",
        "\n",
        "        train_batch_losses.append(train_loss)\n",
        "        train_acc = compute_accuracy(X_batch, y_batch, theta)\n",
        "        train_batch_accs.append(train_acc)\n",
        "\n",
        "        y_val_hat = predict(X_val, theta)\n",
        "        val_loss = compute_loss(y_val_hat, y_val)\n",
        "        val_batch_losses.append(val_loss)\n",
        "\n",
        "        val_acc = compute_accuracy(X_val, y_val, theta)\n",
        "        val_batch_accs.append(val_acc)\n",
        "\n",
        "\n",
        "    train_batch_loss = sum(train_batch_losses) / len(train_batch_losses)\n",
        "    val_batch_loss = sum(val_batch_losses) / len(val_batch_losses)\n",
        "    train_batch_acc = sum(train_batch_accs) / len(train_batch_accs)\n",
        "    val_batch_acc = sum(val_batch_accs) / len(val_batch_accs)\n",
        "\n",
        "    train_losses.append(train_batch_loss)\n",
        "    val_losses.append(val_batch_loss)\n",
        "    train_accs.append(train_batch_acc)\n",
        "    val_accs.append(val_batch_acc)\n",
        "\n",
        "    print(f'\\nEPOCH { epoch + 1}:\\tTraining loss : { train_batch_loss :.3f}\\tValidation loss:{val_batch_loss:.3f}')\n",
        "\n"
      ],
      "metadata": {
        "colab": {
          "base_uri": "https://localhost:8080/"
        },
        "outputId": "9b8e5829-5576-43f9-adb3-4dc35d58acee",
        "id": "g6qd_oVwOd0Y"
      },
      "execution_count": null,
      "outputs": [
        {
          "output_type": "stream",
          "name": "stdout",
          "text": [
            "\n",
            "EPOCH 1:\tTraining loss : 0.723\tValidation loss:0.607\n",
            "\n",
            "EPOCH 2:\tTraining loss : 0.718\tValidation loss:0.605\n",
            "\n",
            "EPOCH 3:\tTraining loss : 0.713\tValidation loss:0.602\n",
            "\n",
            "EPOCH 4:\tTraining loss : 0.708\tValidation loss:0.600\n",
            "\n",
            "EPOCH 5:\tTraining loss : 0.704\tValidation loss:0.597\n",
            "\n",
            "EPOCH 6:\tTraining loss : 0.699\tValidation loss:0.595\n",
            "\n",
            "EPOCH 7:\tTraining loss : 0.695\tValidation loss:0.593\n",
            "\n",
            "EPOCH 8:\tTraining loss : 0.690\tValidation loss:0.590\n",
            "\n",
            "EPOCH 9:\tTraining loss : 0.686\tValidation loss:0.588\n",
            "\n",
            "EPOCH 10:\tTraining loss : 0.682\tValidation loss:0.586\n",
            "\n",
            "EPOCH 11:\tTraining loss : 0.678\tValidation loss:0.584\n",
            "\n",
            "EPOCH 12:\tTraining loss : 0.673\tValidation loss:0.582\n",
            "\n",
            "EPOCH 13:\tTraining loss : 0.669\tValidation loss:0.580\n",
            "\n",
            "EPOCH 14:\tTraining loss : 0.665\tValidation loss:0.578\n",
            "\n",
            "EPOCH 15:\tTraining loss : 0.661\tValidation loss:0.576\n",
            "\n",
            "EPOCH 16:\tTraining loss : 0.658\tValidation loss:0.574\n",
            "\n",
            "EPOCH 17:\tTraining loss : 0.654\tValidation loss:0.572\n",
            "\n",
            "EPOCH 18:\tTraining loss : 0.650\tValidation loss:0.570\n",
            "\n",
            "EPOCH 19:\tTraining loss : 0.646\tValidation loss:0.568\n",
            "\n",
            "EPOCH 20:\tTraining loss : 0.643\tValidation loss:0.566\n",
            "\n",
            "EPOCH 21:\tTraining loss : 0.639\tValidation loss:0.565\n",
            "\n",
            "EPOCH 22:\tTraining loss : 0.635\tValidation loss:0.563\n",
            "\n",
            "EPOCH 23:\tTraining loss : 0.632\tValidation loss:0.561\n",
            "\n",
            "EPOCH 24:\tTraining loss : 0.629\tValidation loss:0.560\n",
            "\n",
            "EPOCH 25:\tTraining loss : 0.625\tValidation loss:0.558\n",
            "\n",
            "EPOCH 26:\tTraining loss : 0.622\tValidation loss:0.557\n",
            "\n",
            "EPOCH 27:\tTraining loss : 0.619\tValidation loss:0.555\n",
            "\n",
            "EPOCH 28:\tTraining loss : 0.615\tValidation loss:0.554\n",
            "\n",
            "EPOCH 29:\tTraining loss : 0.612\tValidation loss:0.552\n",
            "\n",
            "EPOCH 30:\tTraining loss : 0.609\tValidation loss:0.551\n",
            "\n",
            "EPOCH 31:\tTraining loss : 0.606\tValidation loss:0.549\n",
            "\n",
            "EPOCH 32:\tTraining loss : 0.603\tValidation loss:0.548\n",
            "\n",
            "EPOCH 33:\tTraining loss : 0.600\tValidation loss:0.547\n",
            "\n",
            "EPOCH 34:\tTraining loss : 0.597\tValidation loss:0.545\n",
            "\n",
            "EPOCH 35:\tTraining loss : 0.595\tValidation loss:0.544\n",
            "\n",
            "EPOCH 36:\tTraining loss : 0.592\tValidation loss:0.543\n",
            "\n",
            "EPOCH 37:\tTraining loss : 0.589\tValidation loss:0.542\n",
            "\n",
            "EPOCH 38:\tTraining loss : 0.586\tValidation loss:0.540\n",
            "\n",
            "EPOCH 39:\tTraining loss : 0.584\tValidation loss:0.539\n",
            "\n",
            "EPOCH 40:\tTraining loss : 0.581\tValidation loss:0.538\n",
            "\n",
            "EPOCH 41:\tTraining loss : 0.578\tValidation loss:0.537\n",
            "\n",
            "EPOCH 42:\tTraining loss : 0.576\tValidation loss:0.536\n",
            "\n",
            "EPOCH 43:\tTraining loss : 0.573\tValidation loss:0.535\n",
            "\n",
            "EPOCH 44:\tTraining loss : 0.571\tValidation loss:0.534\n",
            "\n",
            "EPOCH 45:\tTraining loss : 0.569\tValidation loss:0.533\n",
            "\n",
            "EPOCH 46:\tTraining loss : 0.566\tValidation loss:0.532\n",
            "\n",
            "EPOCH 47:\tTraining loss : 0.564\tValidation loss:0.531\n",
            "\n",
            "EPOCH 48:\tTraining loss : 0.562\tValidation loss:0.530\n",
            "\n",
            "EPOCH 49:\tTraining loss : 0.559\tValidation loss:0.529\n",
            "\n",
            "EPOCH 50:\tTraining loss : 0.557\tValidation loss:0.528\n",
            "\n",
            "EPOCH 51:\tTraining loss : 0.555\tValidation loss:0.527\n",
            "\n",
            "EPOCH 52:\tTraining loss : 0.553\tValidation loss:0.527\n",
            "\n",
            "EPOCH 53:\tTraining loss : 0.551\tValidation loss:0.526\n",
            "\n",
            "EPOCH 54:\tTraining loss : 0.549\tValidation loss:0.525\n",
            "\n",
            "EPOCH 55:\tTraining loss : 0.547\tValidation loss:0.524\n",
            "\n",
            "EPOCH 56:\tTraining loss : 0.545\tValidation loss:0.523\n",
            "\n",
            "EPOCH 57:\tTraining loss : 0.543\tValidation loss:0.523\n",
            "\n",
            "EPOCH 58:\tTraining loss : 0.541\tValidation loss:0.522\n",
            "\n",
            "EPOCH 59:\tTraining loss : 0.539\tValidation loss:0.521\n",
            "\n",
            "EPOCH 60:\tTraining loss : 0.537\tValidation loss:0.521\n",
            "\n",
            "EPOCH 61:\tTraining loss : 0.535\tValidation loss:0.520\n",
            "\n",
            "EPOCH 62:\tTraining loss : 0.534\tValidation loss:0.519\n",
            "\n",
            "EPOCH 63:\tTraining loss : 0.532\tValidation loss:0.519\n",
            "\n",
            "EPOCH 64:\tTraining loss : 0.530\tValidation loss:0.518\n",
            "\n",
            "EPOCH 65:\tTraining loss : 0.528\tValidation loss:0.518\n",
            "\n",
            "EPOCH 66:\tTraining loss : 0.527\tValidation loss:0.517\n",
            "\n",
            "EPOCH 67:\tTraining loss : 0.525\tValidation loss:0.516\n",
            "\n",
            "EPOCH 68:\tTraining loss : 0.524\tValidation loss:0.516\n",
            "\n",
            "EPOCH 69:\tTraining loss : 0.522\tValidation loss:0.515\n",
            "\n",
            "EPOCH 70:\tTraining loss : 0.520\tValidation loss:0.515\n",
            "\n",
            "EPOCH 71:\tTraining loss : 0.519\tValidation loss:0.514\n",
            "\n",
            "EPOCH 72:\tTraining loss : 0.517\tValidation loss:0.514\n",
            "\n",
            "EPOCH 73:\tTraining loss : 0.516\tValidation loss:0.513\n",
            "\n",
            "EPOCH 74:\tTraining loss : 0.514\tValidation loss:0.513\n",
            "\n",
            "EPOCH 75:\tTraining loss : 0.513\tValidation loss:0.512\n",
            "\n",
            "EPOCH 76:\tTraining loss : 0.512\tValidation loss:0.512\n",
            "\n",
            "EPOCH 77:\tTraining loss : 0.510\tValidation loss:0.512\n",
            "\n",
            "EPOCH 78:\tTraining loss : 0.509\tValidation loss:0.511\n",
            "\n",
            "EPOCH 79:\tTraining loss : 0.508\tValidation loss:0.511\n",
            "\n",
            "EPOCH 80:\tTraining loss : 0.506\tValidation loss:0.510\n",
            "\n",
            "EPOCH 81:\tTraining loss : 0.505\tValidation loss:0.510\n",
            "\n",
            "EPOCH 82:\tTraining loss : 0.504\tValidation loss:0.510\n",
            "\n",
            "EPOCH 83:\tTraining loss : 0.502\tValidation loss:0.509\n",
            "\n",
            "EPOCH 84:\tTraining loss : 0.501\tValidation loss:0.509\n",
            "\n",
            "EPOCH 85:\tTraining loss : 0.500\tValidation loss:0.509\n",
            "\n",
            "EPOCH 86:\tTraining loss : 0.499\tValidation loss:0.508\n",
            "\n",
            "EPOCH 87:\tTraining loss : 0.498\tValidation loss:0.508\n",
            "\n",
            "EPOCH 88:\tTraining loss : 0.497\tValidation loss:0.508\n",
            "\n",
            "EPOCH 89:\tTraining loss : 0.495\tValidation loss:0.507\n",
            "\n",
            "EPOCH 90:\tTraining loss : 0.494\tValidation loss:0.507\n",
            "\n",
            "EPOCH 91:\tTraining loss : 0.493\tValidation loss:0.507\n",
            "\n",
            "EPOCH 92:\tTraining loss : 0.492\tValidation loss:0.507\n",
            "\n",
            "EPOCH 93:\tTraining loss : 0.491\tValidation loss:0.506\n",
            "\n",
            "EPOCH 94:\tTraining loss : 0.490\tValidation loss:0.506\n",
            "\n",
            "EPOCH 95:\tTraining loss : 0.489\tValidation loss:0.506\n",
            "\n",
            "EPOCH 96:\tTraining loss : 0.488\tValidation loss:0.506\n",
            "\n",
            "EPOCH 97:\tTraining loss : 0.487\tValidation loss:0.505\n",
            "\n",
            "EPOCH 98:\tTraining loss : 0.486\tValidation loss:0.505\n",
            "\n",
            "EPOCH 99:\tTraining loss : 0.485\tValidation loss:0.505\n",
            "\n",
            "EPOCH 100:\tTraining loss : 0.484\tValidation loss:0.505\n",
            "\n",
            "EPOCH 101:\tTraining loss : 0.483\tValidation loss:0.505\n",
            "\n",
            "EPOCH 102:\tTraining loss : 0.482\tValidation loss:0.504\n",
            "\n",
            "EPOCH 103:\tTraining loss : 0.482\tValidation loss:0.504\n",
            "\n",
            "EPOCH 104:\tTraining loss : 0.481\tValidation loss:0.504\n",
            "\n",
            "EPOCH 105:\tTraining loss : 0.480\tValidation loss:0.504\n",
            "\n",
            "EPOCH 106:\tTraining loss : 0.479\tValidation loss:0.504\n",
            "\n",
            "EPOCH 107:\tTraining loss : 0.478\tValidation loss:0.503\n",
            "\n",
            "EPOCH 108:\tTraining loss : 0.477\tValidation loss:0.503\n",
            "\n",
            "EPOCH 109:\tTraining loss : 0.476\tValidation loss:0.503\n",
            "\n",
            "EPOCH 110:\tTraining loss : 0.476\tValidation loss:0.503\n",
            "\n",
            "EPOCH 111:\tTraining loss : 0.475\tValidation loss:0.503\n",
            "\n",
            "EPOCH 112:\tTraining loss : 0.474\tValidation loss:0.503\n",
            "\n",
            "EPOCH 113:\tTraining loss : 0.473\tValidation loss:0.503\n",
            "\n",
            "EPOCH 114:\tTraining loss : 0.473\tValidation loss:0.502\n",
            "\n",
            "EPOCH 115:\tTraining loss : 0.472\tValidation loss:0.502\n",
            "\n",
            "EPOCH 116:\tTraining loss : 0.471\tValidation loss:0.502\n",
            "\n",
            "EPOCH 117:\tTraining loss : 0.470\tValidation loss:0.502\n",
            "\n",
            "EPOCH 118:\tTraining loss : 0.470\tValidation loss:0.502\n",
            "\n",
            "EPOCH 119:\tTraining loss : 0.469\tValidation loss:0.502\n",
            "\n",
            "EPOCH 120:\tTraining loss : 0.468\tValidation loss:0.502\n",
            "\n",
            "EPOCH 121:\tTraining loss : 0.468\tValidation loss:0.502\n",
            "\n",
            "EPOCH 122:\tTraining loss : 0.467\tValidation loss:0.502\n",
            "\n",
            "EPOCH 123:\tTraining loss : 0.466\tValidation loss:0.502\n",
            "\n",
            "EPOCH 124:\tTraining loss : 0.466\tValidation loss:0.502\n",
            "\n",
            "EPOCH 125:\tTraining loss : 0.465\tValidation loss:0.501\n",
            "\n",
            "EPOCH 126:\tTraining loss : 0.464\tValidation loss:0.501\n",
            "\n",
            "EPOCH 127:\tTraining loss : 0.464\tValidation loss:0.501\n",
            "\n",
            "EPOCH 128:\tTraining loss : 0.463\tValidation loss:0.501\n",
            "\n",
            "EPOCH 129:\tTraining loss : 0.463\tValidation loss:0.501\n",
            "\n",
            "EPOCH 130:\tTraining loss : 0.462\tValidation loss:0.501\n",
            "\n",
            "EPOCH 131:\tTraining loss : 0.462\tValidation loss:0.501\n",
            "\n",
            "EPOCH 132:\tTraining loss : 0.461\tValidation loss:0.501\n",
            "\n",
            "EPOCH 133:\tTraining loss : 0.460\tValidation loss:0.501\n",
            "\n",
            "EPOCH 134:\tTraining loss : 0.460\tValidation loss:0.501\n",
            "\n",
            "EPOCH 135:\tTraining loss : 0.459\tValidation loss:0.501\n",
            "\n",
            "EPOCH 136:\tTraining loss : 0.459\tValidation loss:0.501\n",
            "\n",
            "EPOCH 137:\tTraining loss : 0.458\tValidation loss:0.501\n",
            "\n",
            "EPOCH 138:\tTraining loss : 0.458\tValidation loss:0.501\n",
            "\n",
            "EPOCH 139:\tTraining loss : 0.457\tValidation loss:0.501\n",
            "\n",
            "EPOCH 140:\tTraining loss : 0.457\tValidation loss:0.501\n",
            "\n",
            "EPOCH 141:\tTraining loss : 0.456\tValidation loss:0.501\n",
            "\n",
            "EPOCH 142:\tTraining loss : 0.456\tValidation loss:0.501\n",
            "\n",
            "EPOCH 143:\tTraining loss : 0.455\tValidation loss:0.501\n",
            "\n",
            "EPOCH 144:\tTraining loss : 0.455\tValidation loss:0.501\n",
            "\n",
            "EPOCH 145:\tTraining loss : 0.454\tValidation loss:0.501\n",
            "\n",
            "EPOCH 146:\tTraining loss : 0.454\tValidation loss:0.501\n",
            "\n",
            "EPOCH 147:\tTraining loss : 0.453\tValidation loss:0.501\n",
            "\n",
            "EPOCH 148:\tTraining loss : 0.453\tValidation loss:0.501\n",
            "\n",
            "EPOCH 149:\tTraining loss : 0.452\tValidation loss:0.501\n",
            "\n",
            "EPOCH 150:\tTraining loss : 0.452\tValidation loss:0.501\n",
            "\n",
            "EPOCH 151:\tTraining loss : 0.452\tValidation loss:0.501\n",
            "\n",
            "EPOCH 152:\tTraining loss : 0.451\tValidation loss:0.501\n",
            "\n",
            "EPOCH 153:\tTraining loss : 0.451\tValidation loss:0.501\n",
            "\n",
            "EPOCH 154:\tTraining loss : 0.450\tValidation loss:0.501\n",
            "\n",
            "EPOCH 155:\tTraining loss : 0.450\tValidation loss:0.501\n",
            "\n",
            "EPOCH 156:\tTraining loss : 0.450\tValidation loss:0.501\n",
            "\n",
            "EPOCH 157:\tTraining loss : 0.449\tValidation loss:0.501\n",
            "\n",
            "EPOCH 158:\tTraining loss : 0.449\tValidation loss:0.501\n",
            "\n",
            "EPOCH 159:\tTraining loss : 0.448\tValidation loss:0.501\n",
            "\n",
            "EPOCH 160:\tTraining loss : 0.448\tValidation loss:0.501\n",
            "\n",
            "EPOCH 161:\tTraining loss : 0.448\tValidation loss:0.501\n",
            "\n",
            "EPOCH 162:\tTraining loss : 0.447\tValidation loss:0.501\n",
            "\n",
            "EPOCH 163:\tTraining loss : 0.447\tValidation loss:0.501\n",
            "\n",
            "EPOCH 164:\tTraining loss : 0.446\tValidation loss:0.501\n",
            "\n",
            "EPOCH 165:\tTraining loss : 0.446\tValidation loss:0.501\n",
            "\n",
            "EPOCH 166:\tTraining loss : 0.446\tValidation loss:0.501\n",
            "\n",
            "EPOCH 167:\tTraining loss : 0.445\tValidation loss:0.501\n",
            "\n",
            "EPOCH 168:\tTraining loss : 0.445\tValidation loss:0.501\n",
            "\n",
            "EPOCH 169:\tTraining loss : 0.445\tValidation loss:0.501\n",
            "\n",
            "EPOCH 170:\tTraining loss : 0.444\tValidation loss:0.501\n",
            "\n",
            "EPOCH 171:\tTraining loss : 0.444\tValidation loss:0.501\n",
            "\n",
            "EPOCH 172:\tTraining loss : 0.444\tValidation loss:0.501\n",
            "\n",
            "EPOCH 173:\tTraining loss : 0.443\tValidation loss:0.501\n",
            "\n",
            "EPOCH 174:\tTraining loss : 0.443\tValidation loss:0.501\n",
            "\n",
            "EPOCH 175:\tTraining loss : 0.443\tValidation loss:0.501\n",
            "\n",
            "EPOCH 176:\tTraining loss : 0.442\tValidation loss:0.501\n",
            "\n",
            "EPOCH 177:\tTraining loss : 0.442\tValidation loss:0.501\n",
            "\n",
            "EPOCH 178:\tTraining loss : 0.442\tValidation loss:0.501\n",
            "\n",
            "EPOCH 179:\tTraining loss : 0.442\tValidation loss:0.501\n",
            "\n",
            "EPOCH 180:\tTraining loss : 0.441\tValidation loss:0.501\n",
            "\n",
            "EPOCH 181:\tTraining loss : 0.441\tValidation loss:0.501\n",
            "\n",
            "EPOCH 182:\tTraining loss : 0.441\tValidation loss:0.501\n",
            "\n",
            "EPOCH 183:\tTraining loss : 0.440\tValidation loss:0.501\n",
            "\n",
            "EPOCH 184:\tTraining loss : 0.440\tValidation loss:0.501\n",
            "\n",
            "EPOCH 185:\tTraining loss : 0.440\tValidation loss:0.501\n",
            "\n",
            "EPOCH 186:\tTraining loss : 0.440\tValidation loss:0.501\n",
            "\n",
            "EPOCH 187:\tTraining loss : 0.439\tValidation loss:0.501\n",
            "\n",
            "EPOCH 188:\tTraining loss : 0.439\tValidation loss:0.501\n",
            "\n",
            "EPOCH 189:\tTraining loss : 0.439\tValidation loss:0.501\n",
            "\n",
            "EPOCH 190:\tTraining loss : 0.439\tValidation loss:0.501\n",
            "\n",
            "EPOCH 191:\tTraining loss : 0.438\tValidation loss:0.501\n",
            "\n",
            "EPOCH 192:\tTraining loss : 0.438\tValidation loss:0.501\n",
            "\n",
            "EPOCH 193:\tTraining loss : 0.438\tValidation loss:0.502\n",
            "\n",
            "EPOCH 194:\tTraining loss : 0.438\tValidation loss:0.502\n",
            "\n",
            "EPOCH 195:\tTraining loss : 0.437\tValidation loss:0.502\n",
            "\n",
            "EPOCH 196:\tTraining loss : 0.437\tValidation loss:0.502\n",
            "\n",
            "EPOCH 197:\tTraining loss : 0.437\tValidation loss:0.502\n",
            "\n",
            "EPOCH 198:\tTraining loss : 0.437\tValidation loss:0.502\n",
            "\n",
            "EPOCH 199:\tTraining loss : 0.436\tValidation loss:0.502\n",
            "\n",
            "EPOCH 200:\tTraining loss : 0.436\tValidation loss:0.502\n"
          ]
        }
      ]
    },
    {
      "cell_type": "code",
      "source": [
        "fig, ax = plt.subplots(2, 2, figsize=(12, 10))\n",
        "ax[0, 0].plot(train_losses)\n",
        "ax[0, 0].set(xlabel= 'Epoch', ylabel = 'Loss')\n",
        "ax[0, 0].set_title('Training Loss')\n",
        "\n",
        "ax[0, 1].plot(val_losses, 'orange')\n",
        "ax[0, 1].set(xlabel= 'Epoch', ylabel = 'Loss')\n",
        "ax[0, 1].set_title('Validation Loss')\n",
        "\n",
        "ax[1, 0].plot(train_accs)\n",
        "ax[1, 0].set(xlabel= 'Epoch', ylabel = 'Accuracy')\n",
        "ax[1, 0].set_title('Training Accuracy')\n",
        "\n",
        "ax[1, 1].plot(val_accs, 'orange')\n",
        "ax[1, 1].set(xlabel= 'Epoch', ylabel = 'Accuracy')\n",
        "ax[1, 1].set_title('Validation Accuracy')\n",
        "\n",
        "plt.show()"
      ],
      "metadata": {
        "colab": {
          "base_uri": "https://localhost:8080/",
          "height": 550
        },
        "id": "REqYxrjsOqjR",
        "outputId": "6114646b-f1c9-467b-93ee-efe31779bd28"
      },
      "execution_count": null,
      "outputs": [
        {
          "output_type": "display_data",
          "data": {
            "text/plain": [
              "<Figure size 1200x1000 with 4 Axes>"
            ],
            "image/png": "[encoded data removed]"
          },
          "metadata": {}
        }
      ]
    },
    {
      "cell_type": "code",
      "source": [
        "val_set_acc = compute_accuracy(X_val, y_val, theta)\n",
        "test_set_acc = compute_accuracy(X_test, y_test, theta)\n",
        "\n",
        "print(f'Validation set accuracy: {val_set_acc:.3f}')\n",
        "print(f'Test set accuracy: {test_set_acc:.3f}')"
      ],
      "metadata": {
        "colab": {
          "base_uri": "https://localhost:8080/"
        },
        "id": "jHaBFeRMO1Dc",
        "outputId": "36209060-f376-48fb-f37a-c6caf7ce5919"
      },
      "execution_count": null,
      "outputs": [
        {
          "output_type": "stream",
          "name": "stdout",
          "text": [
            "Validation set accuracy: 0.754\n",
            "Test set accuracy: 0.753\n"
          ]
        }
      ]
    }
  ]
}