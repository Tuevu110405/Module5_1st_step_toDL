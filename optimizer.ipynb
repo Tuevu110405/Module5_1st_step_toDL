{
  "nbformat": 4,
  "nbformat_minor": 0,
  "metadata": {
    "colab": {
      "provenance": [],
      "authorship_tag": "ABX9TyNZgPfqAZV2h1SgmY4zVO/q",
      "include_colab_link": true
    },
    "kernelspec": {
      "name": "python3",
      "display_name": "Python 3"
    },
    "language_info": {
      "name": "python"
    }
  },
  "cells": [
    {
      "cell_type": "markdown",
      "metadata": {
        "id": "view-in-github",
        "colab_type": "text"
      },
      "source": [
        "<a href=\"https://colab.research.google.com/github/Tuevu110405/Module5_1st_step_toDL/blob/feature%2Foptimizer/optimizer.ipynb\" target=\"_parent\"><img src=\"https://colab.research.google.com/assets/colab-badge.svg\" alt=\"Open In Colab\"/></a>"
      ]
    },
    {
      "cell_type": "code",
      "execution_count": 8,
      "metadata": {
        "id": "Z1pLuBWs1bUu"
      },
      "outputs": [],
      "source": [
        "import numpy as np"
      ]
    },
    {
      "cell_type": "markdown",
      "source": [
        "f(w1, w2) = 0.1w_1^2+2w_2^2"
      ],
      "metadata": {
        "id": "W5rAJZEP2P4E"
      }
    },
    {
      "cell_type": "code",
      "source": [
        "def f(w1, w2):\n",
        "    return 0.1*w1**2+2*w2**2"
      ],
      "metadata": {
        "id": "KRyhbraX2PPl"
      },
      "execution_count": 9,
      "outputs": []
    },
    {
      "cell_type": "code",
      "source": [
        "def df_w(W):\n",
        "    \"\"\"\"\n",
        "    Thuc hien tinh gradient cua dw1 va dw2\n",
        "    Arguments:\n",
        "    W -- np.array [w1, w2]\n",
        "    Returns:\n",
        "    dW-- np.array [dw1, dw2]\n",
        "    \"\"\"\n",
        "    w1, w2 = W\n",
        "    dw1 = 0.2*w1\n",
        "    dw2 = 4*w2\n",
        "    dw = np.array([dw1, dw2])\n",
        "    return dw"
      ],
      "metadata": {
        "id": "MVtvHHQk15lY"
      },
      "execution_count": 12,
      "outputs": []
    },
    {
      "cell_type": "code",
      "source": [
        "\n"
      ],
      "metadata": {
        "id": "GdjDvbaOFPhK"
      },
      "execution_count": null,
      "outputs": []
    },
    {
      "cell_type": "code",
      "source": [
        "def sgd(W, dw, lr):\n",
        "    W -= lr*dw\n",
        "    return W"
      ],
      "metadata": {
        "id": "CdFEmYZN3eFa"
      },
      "execution_count": 13,
      "outputs": []
    },
    {
      "cell_type": "code",
      "source": [
        "def train_p1(optimizer, lr, epochs):\n",
        "    W = np.array([-5, -2], dtype = np.float32)\n",
        "    results = [W]\n",
        "    for epoch in range(epochs):\n",
        "        dw = df_w(W)\n",
        "        W = optimizer(W, dw, lr)\n",
        "        results.append(W)\n",
        "    return results"
      ],
      "metadata": {
        "id": "t_Pyc6JL3p-e"
      },
      "execution_count": 14,
      "outputs": []
    },
    {
      "cell_type": "code",
      "source": [
        "w = train_p1(sgd,0.4, 30)\n",
        "print(w)"
      ],
      "metadata": {
        "colab": {
          "base_uri": "https://localhost:8080/"
        },
        "id": "_ZytRW1nFNgc",
        "outputId": "65055135-6400-4414-8b02-f6a148d53843"
      },
      "execution_count": 16,
      "outputs": [
        {
          "output_type": "stream",
          "name": "stdout",
          "text": [
            "[array([-4.098310e-01, -4.421478e-07], dtype=float32), array([-4.098310e-01, -4.421478e-07], dtype=float32), array([-4.098310e-01, -4.421478e-07], dtype=float32), array([-4.098310e-01, -4.421478e-07], dtype=float32), array([-4.098310e-01, -4.421478e-07], dtype=float32), array([-4.098310e-01, -4.421478e-07], dtype=float32), array([-4.098310e-01, -4.421478e-07], dtype=float32), array([-4.098310e-01, -4.421478e-07], dtype=float32), array([-4.098310e-01, -4.421478e-07], dtype=float32), array([-4.098310e-01, -4.421478e-07], dtype=float32), array([-4.098310e-01, -4.421478e-07], dtype=float32), array([-4.098310e-01, -4.421478e-07], dtype=float32), array([-4.098310e-01, -4.421478e-07], dtype=float32), array([-4.098310e-01, -4.421478e-07], dtype=float32), array([-4.098310e-01, -4.421478e-07], dtype=float32), array([-4.098310e-01, -4.421478e-07], dtype=float32), array([-4.098310e-01, -4.421478e-07], dtype=float32), array([-4.098310e-01, -4.421478e-07], dtype=float32), array([-4.098310e-01, -4.421478e-07], dtype=float32), array([-4.098310e-01, -4.421478e-07], dtype=float32), array([-4.098310e-01, -4.421478e-07], dtype=float32), array([-4.098310e-01, -4.421478e-07], dtype=float32), array([-4.098310e-01, -4.421478e-07], dtype=float32), array([-4.098310e-01, -4.421478e-07], dtype=float32), array([-4.098310e-01, -4.421478e-07], dtype=float32), array([-4.098310e-01, -4.421478e-07], dtype=float32), array([-4.098310e-01, -4.421478e-07], dtype=float32), array([-4.098310e-01, -4.421478e-07], dtype=float32), array([-4.098310e-01, -4.421478e-07], dtype=float32), array([-4.098310e-01, -4.421478e-07], dtype=float32), array([-4.098310e-01, -4.421478e-07], dtype=float32)]\n"
          ]
        }
      ]
    },
    {
      "cell_type": "code",
      "source": [
        "\"\"\"Với bài tập Gradient Descent: câu (a) tại epoch = 2 sau khi áp dụng Gradient Descent ta thu\n",
        "được w1 và w2 là (Kết quả có thể không chính xác hoàn toàn các bạn chọn kết quả làm tròn gần\n",
        "nhất)\n",
        "(A). -4.232, -0.72 (B). -4.232, -0.83\n",
        "(C). -4.232, -0.94 (D). -4.232, -0.75:\"\"\"\n",
        "\n",
        "w = train_p1(sgd,0.0001, 2)\n",
        "print(w[-1])"
      ],
      "metadata": {
        "colab": {
          "base_uri": "https://localhost:8080/"
        },
        "id": "bdUglSr0JogY",
        "outputId": "ea9e0d07-0547-4d44-e357-1c82229a4f03"
      },
      "execution_count": null,
      "outputs": [
        {
          "output_type": "stream",
          "name": "stdout",
          "text": [
            "[-5.0002003 -2.0016003]\n"
          ]
        }
      ]
    },
    {
      "cell_type": "markdown",
      "source": [
        "Bai 2"
      ],
      "metadata": {
        "id": "ud7KMdU54nVz"
      }
    },
    {
      "cell_type": "code",
      "source": [
        "\n",
        "def gdmomentum(W, lr, epoch, beta):\n",
        "    v_t = 0\n",
        "    v_t_1 = 0\n",
        "    for t in range(epoch):\n",
        "        dw = df_w(W)\n",
        "        v_t = beta*v_t-1 + (1-beta)*dw\n",
        "        W -= v_t* lr\n",
        "        v_t_1 = v_t\n",
        "    return W\n",
        "\n"
      ],
      "metadata": {
        "id": "6KN2Qu_q4jy-"
      },
      "execution_count": 25,
      "outputs": []
    },
    {
      "cell_type": "code",
      "source": [
        "def gdmomentum(W, lr, epochs, beta):\n",
        "    v_t = 0  # Initialize momentum term outside the loop\n",
        "    for t in range(epochs):\n",
        "        dw = df_w(W)\n",
        "        v_t = beta * v_t + (1 - beta) * dw  # Correct momentum update\n",
        "        W -= lr * v_t\n",
        "    return W"
      ],
      "metadata": {
        "id": "jPIu9wnQs64i"
      },
      "execution_count": 29,
      "outputs": []
    },
    {
      "cell_type": "code",
      "source": [
        "def train_p2(optimizer, lr, epochs):\n",
        "    W = np.array([-5, -2], dtype = np.float32)\n",
        "    results = [W]\n",
        "    for epoch in range(epochs):\n",
        "        dw = df_w(W)\n",
        "        W = optimizer(W,lr,epochs, 0.5)\n",
        "        results.append(W)\n",
        "    return results\n",
        "\n",
        ""
      ],
      "metadata": {
        "id": "nZ67iPyvqOqg"
      },
      "execution_count": 30,
      "outputs": []
    },
    {
      "cell_type": "code",
      "source": [
        "train_p2(optimizer = gdmomentum, lr = 0.06, epochs =30)"
      ],
      "metadata": {
        "colab": {
          "base_uri": "https://localhost:8080/"
        },
        "id": "3SbD3tQkrUNz",
        "outputId": "afdba473-1c17-4716-a622-0a46c0de784e"
      },
      "execution_count": 34,
      "outputs": [
        {
          "output_type": "execute_result",
          "data": {
            "text/plain": [
              "[array([-0.000122,  0.      ], dtype=float32),\n",
              " array([-0.000122,  0.      ], dtype=float32),\n",
              " array([-0.000122,  0.      ], dtype=float32),\n",
              " array([-0.000122,  0.      ], dtype=float32),\n",
              " array([-0.000122,  0.      ], dtype=float32),\n",
              " array([-0.000122,  0.      ], dtype=float32),\n",
              " array([-0.000122,  0.      ], dtype=float32),\n",
              " array([-0.000122,  0.      ], dtype=float32),\n",
              " array([-0.000122,  0.      ], dtype=float32),\n",
              " array([-0.000122,  0.      ], dtype=float32),\n",
              " array([-0.000122,  0.      ], dtype=float32),\n",
              " array([-0.000122,  0.      ], dtype=float32),\n",
              " array([-0.000122,  0.      ], dtype=float32),\n",
              " array([-0.000122,  0.      ], dtype=float32),\n",
              " array([-0.000122,  0.      ], dtype=float32),\n",
              " array([-0.000122,  0.      ], dtype=float32),\n",
              " array([-0.000122,  0.      ], dtype=float32),\n",
              " array([-0.000122,  0.      ], dtype=float32),\n",
              " array([-0.000122,  0.      ], dtype=float32),\n",
              " array([-0.000122,  0.      ], dtype=float32),\n",
              " array([-0.000122,  0.      ], dtype=float32),\n",
              " array([-0.000122,  0.      ], dtype=float32),\n",
              " array([-0.000122,  0.      ], dtype=float32),\n",
              " array([-0.000122,  0.      ], dtype=float32),\n",
              " array([-0.000122,  0.      ], dtype=float32),\n",
              " array([-0.000122,  0.      ], dtype=float32),\n",
              " array([-0.000122,  0.      ], dtype=float32),\n",
              " array([-0.000122,  0.      ], dtype=float32),\n",
              " array([-0.000122,  0.      ], dtype=float32),\n",
              " array([-0.000122,  0.      ], dtype=float32),\n",
              " array([-0.000122,  0.      ], dtype=float32)]"
            ]
          },
          "metadata": {},
          "execution_count": 34
        }
      ]
    },
    {
      "cell_type": "markdown",
      "source": [
        "RMSprop"
      ],
      "metadata": {
        "id": "p1KKOIUKLy98"
      }
    },
    {
      "cell_type": "code",
      "source": [
        "def rmsprop(W, lr, gamma, epoch, epsilon):\n",
        "\n",
        "    s_t = 0\n",
        "    for i in range(epoch):\n",
        "        dw = df_w(W)\n",
        "        s_t = gamma* s_t + (1-gamma) * (dw**2)\n",
        "        W -= lr*dw/np.sqrt(s_t +epsilon)\n",
        "\n",
        "    return W"
      ],
      "metadata": {
        "id": "S-_35lTRNd8V"
      },
      "execution_count": 47,
      "outputs": []
    },
    {
      "cell_type": "code",
      "source": [
        "def train_p2(optimizer, lr, epochs):\n",
        "    W = np.array([-5, -2], dtype = np.float32)\n",
        "    results = [W]\n",
        "    for epoch in range(epochs):\n",
        "        dw = df_w(W)\n",
        "        W = optimizer(W,lr,0.9,epochs, 10**(-6))\n",
        "        results.append(W)\n",
        "    return results"
      ],
      "metadata": {
        "id": "ew6zOKUlu6y5"
      },
      "execution_count": 48,
      "outputs": []
    },
    {
      "cell_type": "code",
      "source": [
        "train_p2(optimizer = rmsprop, lr = 0.03, epochs = 30)"
      ],
      "metadata": {
        "colab": {
          "base_uri": "https://localhost:8080/"
        },
        "id": "m_WhraxfvJ1d",
        "outputId": "3b084cbe-8c93-4c03-a083-e1b5f55ca1f5"
      },
      "execution_count": 51,
      "outputs": [
        {
          "output_type": "execute_result",
          "data": {
            "text/plain": [
              "[array([-0.00739032,  0.03041785], dtype=float32),\n",
              " array([-0.00739032,  0.03041785], dtype=float32),\n",
              " array([-0.00739032,  0.03041785], dtype=float32),\n",
              " array([-0.00739032,  0.03041785], dtype=float32),\n",
              " array([-0.00739032,  0.03041785], dtype=float32),\n",
              " array([-0.00739032,  0.03041785], dtype=float32),\n",
              " array([-0.00739032,  0.03041785], dtype=float32),\n",
              " array([-0.00739032,  0.03041785], dtype=float32),\n",
              " array([-0.00739032,  0.03041785], dtype=float32),\n",
              " array([-0.00739032,  0.03041785], dtype=float32),\n",
              " array([-0.00739032,  0.03041785], dtype=float32),\n",
              " array([-0.00739032,  0.03041785], dtype=float32),\n",
              " array([-0.00739032,  0.03041785], dtype=float32),\n",
              " array([-0.00739032,  0.03041785], dtype=float32),\n",
              " array([-0.00739032,  0.03041785], dtype=float32),\n",
              " array([-0.00739032,  0.03041785], dtype=float32),\n",
              " array([-0.00739032,  0.03041785], dtype=float32),\n",
              " array([-0.00739032,  0.03041785], dtype=float32),\n",
              " array([-0.00739032,  0.03041785], dtype=float32),\n",
              " array([-0.00739032,  0.03041785], dtype=float32),\n",
              " array([-0.00739032,  0.03041785], dtype=float32),\n",
              " array([-0.00739032,  0.03041785], dtype=float32),\n",
              " array([-0.00739032,  0.03041785], dtype=float32),\n",
              " array([-0.00739032,  0.03041785], dtype=float32),\n",
              " array([-0.00739032,  0.03041785], dtype=float32),\n",
              " array([-0.00739032,  0.03041785], dtype=float32),\n",
              " array([-0.00739032,  0.03041785], dtype=float32),\n",
              " array([-0.00739032,  0.03041785], dtype=float32),\n",
              " array([-0.00739032,  0.03041785], dtype=float32),\n",
              " array([-0.00739032,  0.03041785], dtype=float32),\n",
              " array([-0.00739032,  0.03041785], dtype=float32)]"
            ]
          },
          "metadata": {},
          "execution_count": 51
        }
      ]
    },
    {
      "cell_type": "markdown",
      "source": [
        "Adam"
      ],
      "metadata": {
        "id": "6TD8vJ_hUrzB"
      }
    },
    {
      "cell_type": "code",
      "source": [
        "def adam(W, lr, beta1, beta2, epoch, epsilon):\n",
        "    m_t_1 = 0\n",
        "    v_t_1 = 0\n",
        "    for i in epoch:\n",
        "        dw = df_w(W)\n",
        "        m_t = beta1*m_t + (1-beta1)*dw\n",
        "        v_t = beta2*v_t + (1-beta2)*(dw**2)\n",
        "        m_t_hat = m_t/(1-beta1**i)\n",
        "        v_t_hat = v_t/(1-beta2**i)\n",
        "        W -= lr*m_t_hat/(np.sqrt(v_t_hat)+epsilon)\n",
        "\n",
        "    return W\n"
      ],
      "metadata": {
        "id": "vXvbgJFZUqy1"
      },
      "execution_count": 19,
      "outputs": []
    }
  ]
}